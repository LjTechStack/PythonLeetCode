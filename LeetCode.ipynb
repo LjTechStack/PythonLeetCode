{
 "cells": [
  {
   "cell_type": "code",
   "execution_count": 54,
   "metadata": {
    "pycharm": {
     "is_executing": false,
     "metadata": false,
     "name": "#%%\n"
    }
   },
   "outputs": [],
   "source": [
    "    def say(string: str) -> str:\n",
    "        prev = \"\"\n",
    "        count = 0\n",
    "        result = \"\"\n",
    "        for char in string:\n",
    "            if char == prev:\n",
    "                print('hello')\n",
    "                count += 1\n",
    "            else:\n",
    "                if prev == \"\":\n",
    "                    prev = char\n",
    "                else:\n",
    "                    result += count + prev\n",
    "                    count = 0\n",
    "                    prev = char\n",
    "                    \n",
    "                        \n",
    "        return result\n",
    "        "
   ]
  },
  {
   "cell_type": "code",
   "execution_count": 51,
   "metadata": {
    "pycharm": {
     "is_executing": false,
     "metadata": false,
     "name": "#%%\n"
    }
   },
   "outputs": [],
   "source": [
    "    def countAndSay(n: int) -> str:\n",
    "        count = 0\n",
    "        result = \"\"\n",
    "        while(count < n):\n",
    "            count += 1\n",
    "            result =\"1\"\n",
    "            result = say(result)\n",
    "        \n",
    "        return result\n",
    "        "
   ]
  },
  {
   "cell_type": "code",
   "execution_count": 55,
   "metadata": {
    "pycharm": {
     "is_executing": false
    }
   },
   "outputs": [
    {
     "name": "stderr",
     "output_type": "stream",
     "text": [
      "test_add (__main__.TestNotebook) ... FAIL\n",
      "\n",
      "======================================================================\n",
      "FAIL: test_add (__main__.TestNotebook)\n",
      "----------------------------------------------------------------------\n",
      "Traceback (most recent call last):\n",
      "  File \"<ipython-input-55-c9acd7df98a1>\", line 7, in test_add\n",
      "    self.assertEqual(countAndSay(1), \"1\")\n",
      "AssertionError: '' != '1'\n",
      "+ 1\n",
      "\n",
      "----------------------------------------------------------------------\n",
      "Ran 1 test in 0.002s\n",
      "\n",
      "FAILED (failures=1)\n"
     ]
    },
    {
     "data": {
      "text/plain": [
       "<unittest.main.TestProgram at 0x10507bfd0>"
      ]
     },
     "execution_count": 55,
     "metadata": {},
     "output_type": "execute_result"
    }
   ],
   "source": [
    "import unittest\n",
    "\n",
    "class TestNotebook(unittest.TestCase):\n",
    "    \n",
    "    def test_add(self):\n",
    "        self.assertEqual(countAndSay(0), \"\")\n",
    "        self.assertEqual(countAndSay(1), \"1\")\n",
    "        self.assertEqual(countAndSay(2), \"11\")\n",
    "        self.assertEqual(countAndSay(3), \"21\")\n",
    "        self.assertEqual(countAndSay(3), \"1211\")\n",
    "        self.assertEqual(countAndSay(4), \"111221\")\n",
    "        self.assertEqual(countAndSay(5), \"312211\")\n",
    "        self.assertEqual(countAndSay(6), \"13112221\")\n",
    "        \n",
    "\n",
    "unittest.main(argv=[''], verbosity=2, exit=False)"
   ]
  }
 ],
 "metadata": {
  "kernelspec": {
   "display_name": "Python 3",
   "language": "python",
   "name": "python3"
  },
  "language_info": {
   "codemirror_mode": {
    "name": "ipython",
    "version": 3
   },
   "file_extension": ".py",
   "mimetype": "text/x-python",
   "name": "python",
   "nbconvert_exporter": "python",
   "pygments_lexer": "ipython3",
   "version": "3.7.7"
  },
  "stem_cell": {
   "cell_type": "raw",
   "metadata": {
    "pycharm": {
     "metadata": false
    }
   },
   "source": "Problem 38  "
  }
 },
 "nbformat": 4,
 "nbformat_minor": 1
}
